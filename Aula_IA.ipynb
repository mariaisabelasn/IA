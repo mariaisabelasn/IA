{
  "nbformat": 4,
  "nbformat_minor": 0,
  "metadata": {
    "colab": {
      "name": "Aula_IA.ipynb",
      "provenance": [],
      "collapsed_sections": []
    },
    "kernelspec": {
      "name": "python3",
      "display_name": "Python 3"
    }
  },
  "cells": [
    {
      "cell_type": "code",
      "metadata": {
        "colab": {
          "base_uri": "https://localhost:8080/"
        },
        "id": "-iIt1vWn9dSn",
        "outputId": "9833ee46-e940-4131-d6b2-7e4b09b72dc4"
      },
      "source": [
        "from imageai.Detection import ObjectDetection\n",
        "import os\n",
        "\n",
        "caminho = os.getcwd()\n",
        "\n",
        "detector = ObjectDetection()\n",
        "detector.setModelTypeAsYOLOv3()\n",
        "detector.setModelPath(os.path.join(caminho, \"yolo.h5\"))\n",
        "detector.loadModel()\n",
        "deteccoes = detector.detectObjectsFromImage(input_image=os.path.join(caminho, \"pessoas.jpg\"), output_image_path=os.path.join(caminho, \"imagemNovaPessoa.jpg\"))\n",
        "\n",
        "for cadaObjeto in deteccoes:\n",
        "  print(cadaObjeto[\"name\"],\" : \", cadaObjeto[\"percentage_probability\"])\n",
        "  print(\"-----------------------------------------\")"
      ],
      "execution_count": 7,
      "outputs": [
        {
          "output_type": "stream",
          "text": [
            "person  :  54.338669776916504\n",
            "-----------------------------------------\n",
            "person  :  97.21658229827881\n",
            "-----------------------------------------\n",
            "person  :  98.71297478675842\n",
            "-----------------------------------------\n",
            "person  :  99.03738498687744\n",
            "-----------------------------------------\n",
            "person  :  99.54112768173218\n",
            "-----------------------------------------\n",
            "person  :  99.73834753036499\n",
            "-----------------------------------------\n"
          ],
          "name": "stdout"
        }
      ]
    }
  ]
}